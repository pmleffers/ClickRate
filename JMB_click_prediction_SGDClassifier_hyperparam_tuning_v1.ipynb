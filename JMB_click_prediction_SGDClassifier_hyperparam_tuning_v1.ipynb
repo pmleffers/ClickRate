{
 "cells": [
  {
   "cell_type": "markdown",
   "metadata": {},
   "source": [
    "## Click Prediction Project\n",
    "\n",
    "Matt Leffers, John Burt\n",
    "\n",
    "This notebook uses hyperparameter tuning to optimize a SGDClassifier click predictor.\n",
    "\n",
    "Here, I use GridSearchCV to tune the SGDClassifier hyperparams. I also added a pipeline, which  will make it easier to add tuning of different data selection and transformation schemes in the future.  \n"
   ]
  },
  {
   "cell_type": "code",
   "execution_count": 1,
   "metadata": {},
   "outputs": [],
   "source": [
    "from IPython.display import HTML\n",
    "from IPython.display import Image\n",
    "\n",
    "import pandas as pd\n",
    "import numpy as np\n"
   ]
  },
  {
   "cell_type": "code",
   "execution_count": 2,
   "metadata": {},
   "outputs": [],
   "source": [
    "nrows2read = 500000\n",
    "location='./data/'\n",
    "converters = {\"site_id\": lambda x: int(x, 16),\n",
    "              \"site_domain\": lambda x: int(x, 16),\n",
    "              \"site_category\": lambda x: int(x, 16),\n",
    "              \"app_id\": lambda x: int(x, 16),\n",
    "              \"app_domain\": lambda x: int(x, 16),\n",
    "              \"app_category\": lambda x: int(x, 16),\n",
    "              \"device_id\": lambda x: int(x, 16),\n",
    "              \"device_model\": lambda x: int(x, 16),\n",
    "              \"device_type\": lambda x: int(x, 16),\n",
    "              \"device_ip\": lambda x: int(x, 16),\n",
    "             }\n",
    "#Import only the first nrows2read rows\n",
    "data=pd.read_csv(location+'train.csv', nrows=nrows2read, converters=converters) \n"
   ]
  },
  {
   "cell_type": "code",
   "execution_count": null,
   "metadata": {},
   "outputs": [],
   "source": []
  },
  {
   "cell_type": "code",
   "execution_count": 3,
   "metadata": {},
   "outputs": [
    {
     "name": "stdout",
     "output_type": "stream",
     "text": [
      "original data = 500000 rows: 82037 clicks, 417963 nonclicks 16.4% clicks\n",
      "training data = 164074 rows, equal# clicks/nonclicks \n"
     ]
    }
   ],
   "source": [
    "# extract our X and y variables for training\n",
    "y = data['click'].copy()\n",
    "X = data[data.columns.values[2:]].copy()\n",
    "\n",
    "# from the larger dataset, subsample nsamps click and no-click records\n",
    "y0 = y[y==0]\n",
    "X0 = X[y==0]\n",
    "y1 = y[y==1]\n",
    "X1 = X[y==1]\n",
    "\n",
    "nsamps = y1.shape[0]\n",
    "\n",
    "print(\"original data = %d rows: %d clicks, %d nonclicks %1.1f%% clicks\"%(\n",
    "    y.shape[0], y1.shape[0], y0.shape[0], 100*y1.shape[0]/y.shape[0]))\n",
    "\n",
    "y_eq = y1[:nsamps].append(y0[:nsamps], ignore_index=True)\n",
    "X_eq = X1[:nsamps].append(X0[:nsamps], ignore_index=True)\n",
    "\n",
    "print(\"training data = %d rows, equal# clicks/nonclicks \"%(y_eq.shape[0]))\n"
   ]
  },
  {
   "cell_type": "code",
   "execution_count": 9,
   "metadata": {
    "scrolled": false
   },
   "outputs": [
    {
     "name": "stdout",
     "output_type": "stream",
     "text": [
      "Performing grid search...\n",
      "Fitting 3 folds for each of 32 candidates, totalling 96 fits\n"
     ]
    },
    {
     "name": "stderr",
     "output_type": "stream",
     "text": [
      "[Parallel(n_jobs=-1)]: Done  34 tasks      | elapsed:  1.1min\n",
      "[Parallel(n_jobs=-1)]: Done  96 out of  96 | elapsed:  3.6min finished\n"
     ]
    },
    {
     "name": "stdout",
     "output_type": "stream",
     "text": [
      "done in 250.791s\n",
      "\n",
      "Best score: 0.532\n",
      "Best parameters set:\n",
      "\tclf__alpha: 0.01\n",
      "\tclf__max_iter: 500\n",
      "\tclf__penalty: 'l2'\n"
     ]
    }
   ],
   "source": [
    "from time import time\n",
    "from scipy import stats\n",
    "from sklearn.linear_model import LogisticRegression\n",
    "from sklearn.linear_model import SGDClassifier\n",
    "from sklearn import linear_model\n",
    "from sklearn.model_selection import GridSearchCV\n",
    "from sklearn.pipeline import Pipeline\n",
    "\n",
    "# Define SGDClassifier defaults: \n",
    "# define defaults: doing it this way allows us to define our own default params\n",
    "clf_defaults = {\n",
    "    'loss' : 'log',\n",
    "    'alpha' : 1e-03, \n",
    "    'penalty' : 'l2',\n",
    "    'max_iter' : 10,\n",
    "    'tol' : None\n",
    "    }\n",
    "\n",
    "# Create a pipeline, allowing to tune a transformer and the SGDClassifier classifier.\n",
    "# (transformer not implemented yet)\n",
    "pipeline = Pipeline([    \n",
    "    ('clf', SGDClassifier(**clf_defaults)),\n",
    "])\n",
    "\n",
    "# Define the parameters and values we want to test.\n",
    "# Uncommenting more parameters will give better exploring power but will\n",
    "#   increase processing time in a combinatorial way. I suggest tuning <= 3\n",
    "#   parameters at a time.\n",
    "# Note the naming format: pipelineobjectname__paramname\n",
    "parameters = {\n",
    "    'clf__alpha': (1e-01, 1e-02, 1e-03, 1e-04),\n",
    "#     'clf__penalty': ( 'none', 'l2', 'l1', 'elasticnet'),\n",
    "    'clf__penalty': ( 'l2', 'l1'),\n",
    "    'clf__max_iter': (50, 100, 200, 500),\n",
    "}\n",
    "\n",
    "# Create the grid search object.\n",
    "# Note that \"n_jobs=-1\" means that the search will use all of the \n",
    "#  computer's available processing cores to speed things up.\n",
    "grid_search = GridSearchCV(pipeline, parameters, n_jobs=-1, verbose=1)\n",
    "\n",
    "print(\"Performing grid search...\")\n",
    "# print(\"parameters:\")\n",
    "# print(parameters)\n",
    "t0 = time()\n",
    "\n",
    "# Run the grid search to find the best parameters for the classifier.\n",
    "grid_search.fit(X_eq, y_eq)\n",
    "\n",
    "print(\"done in %0.3fs\" % (time() - t0))\n",
    "print()\n",
    "\n",
    "print(\"Best score: %0.3f\" % grid_search.best_score_)\n",
    "print(\"Best parameters set:\")\n",
    "best_parameters = grid_search.best_estimator_.get_params()\n",
    "for param_name in sorted(parameters.keys()):\n",
    "    print(\"\\t%s: %r\" % (param_name, best_parameters[param_name]))\n"
   ]
  },
  {
   "cell_type": "markdown",
   "metadata": {},
   "source": [
    "with all data:\n",
    "\n",
    "done in 711.312s\n",
    "\n",
    "Best score: 0.836\n",
    "Best parameters set:\n",
    "\tclf__alpha: 0.0001\n",
    "\tclf__max_iter: 100\n",
    "\tclf__penalty: 'l2'"
   ]
  }
 ],
 "metadata": {
  "kernelspec": {
   "display_name": "Python 3",
   "language": "python",
   "name": "python3"
  },
  "language_info": {
   "codemirror_mode": {
    "name": "ipython",
    "version": 3
   },
   "file_extension": ".py",
   "mimetype": "text/x-python",
   "name": "python",
   "nbconvert_exporter": "python",
   "pygments_lexer": "ipython3",
   "version": "3.5.5"
  }
 },
 "nbformat": 4,
 "nbformat_minor": 2
}
