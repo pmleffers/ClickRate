{
 "cells": [
  {
   "cell_type": "code",
   "execution_count": 1,
   "metadata": {},
   "outputs": [],
   "source": [
    "from IPython.display import HTML\n",
    "from IPython.display import Image"
   ]
  },
  {
   "cell_type": "markdown",
   "metadata": {},
   "source": [
    "In online advertising, click-through rate (CTR) is a very important metric for evaluating ad performance. As a result, click prediction systems are essential and widely used for sponsored search and real-time bidding.\n",
    "\n",
    "For this competition, we have provided 11 days worth of Avazu data to build and test prediction models. Can you find a strategy that beats standard classification algorithms? The winning models from this competition will be released under an open-source license."
   ]
  },
  {
   "cell_type": "markdown",
   "metadata": {},
   "source": [
    "Avazu: https://www.kaggle.com/c/avazu-ctr-prediction"
   ]
  },
  {
   "cell_type": "markdown",
   "metadata": {},
   "source": [
    "File descriptions\n",
    "\n",
    "    train - Training set. 10 days of click-through data, ordered chronologically. Non-clicks and clicks are subsampled according to different strategies.\n",
    "    test - Test set. 1 day of ads to for testing your model predictions. \n",
    "    sampleSubmission.csv - Sample submission file in the correct format, corresponds to the All-0.5 Benchmark.\n",
    "\n",
    "Data fields\n",
    "\n",
    "    id: ad identifier\n",
    "    click: 0/1 for non-click/click\n",
    "    hour: format is YYMMDDHH, so 14091123 means 23:00 on Sept. 11, 2014 UTC.\n",
    "    C1 -- anonymized categorical variable\n",
    "    banner_pos\n",
    "    site_id\n",
    "    site_domain\n",
    "    site_category\n",
    "    app_id\n",
    "    app_domain\n",
    "    app_category\n",
    "    device_id\n",
    "    device_ip\n",
    "    device_model\n",
    "    device_type\n",
    "    device_conn_type\n",
    "    C14-C21 -- anonymized categorical variables\n"
   ]
  },
  {
   "cell_type": "code",
   "execution_count": 2,
   "metadata": {},
   "outputs": [],
   "source": [
    "import pandas as pd\n",
    "import numpy as np\n",
    "#import xlearn as xl\n",
    "#logistic regression l1 regularization\n",
    "from scipy import stats\n",
    "from sklearn.linear_model import LogisticRegression\n",
    "from sklearn import linear_model\n"
   ]
  },
  {
   "cell_type": "code",
   "execution_count": 40,
   "metadata": {},
   "outputs": [],
   "source": [
    "location='./data/'\n",
    "converters = {\"site_id\": lambda x: int(x, 16),\n",
    "              \"site_domain\": lambda x: int(x, 16),\n",
    "              \"site_category\": lambda x: int(x, 16),\n",
    "              \"app_id\": lambda x: int(x, 16),\n",
    "              \"app_domain\": lambda x: int(x, 16),\n",
    "              \"app_category\": lambda x: int(x, 16),\n",
    "              \"device_id\": lambda x: int(x, 16),\n",
    "              \"device_model\": lambda x: int(x, 16),\n",
    "              \"device_type\": lambda x: int(x, 16),\n",
    "              \"device_ip\": lambda x: int(x, 16),\n",
    "             }\n",
    "#Import only the first 10000 rows\n",
    "data=pd.read_csv(location+'train.csv', nrows=500000, converters=converters) \n"
   ]
  },
  {
   "cell_type": "code",
   "execution_count": 41,
   "metadata": {},
   "outputs": [
    {
     "data": {
      "text/html": [
       "<div>\n",
       "<style scoped>\n",
       "    .dataframe tbody tr th:only-of-type {\n",
       "        vertical-align: middle;\n",
       "    }\n",
       "\n",
       "    .dataframe tbody tr th {\n",
       "        vertical-align: top;\n",
       "    }\n",
       "\n",
       "    .dataframe thead th {\n",
       "        text-align: right;\n",
       "    }\n",
       "</style>\n",
       "<table border=\"1\" class=\"dataframe\">\n",
       "  <thead>\n",
       "    <tr style=\"text-align: right;\">\n",
       "      <th></th>\n",
       "      <th>id</th>\n",
       "      <th>click</th>\n",
       "      <th>hour</th>\n",
       "      <th>C1</th>\n",
       "      <th>banner_pos</th>\n",
       "      <th>site_id</th>\n",
       "      <th>site_domain</th>\n",
       "      <th>site_category</th>\n",
       "      <th>app_id</th>\n",
       "      <th>app_domain</th>\n",
       "      <th>...</th>\n",
       "      <th>device_type</th>\n",
       "      <th>device_conn_type</th>\n",
       "      <th>C14</th>\n",
       "      <th>C15</th>\n",
       "      <th>C16</th>\n",
       "      <th>C17</th>\n",
       "      <th>C18</th>\n",
       "      <th>C19</th>\n",
       "      <th>C20</th>\n",
       "      <th>C21</th>\n",
       "    </tr>\n",
       "  </thead>\n",
       "  <tbody>\n",
       "    <tr>\n",
       "      <th>0</th>\n",
       "      <td>1.000009e+18</td>\n",
       "      <td>0</td>\n",
       "      <td>14102100</td>\n",
       "      <td>1005</td>\n",
       "      <td>0</td>\n",
       "      <td>532546046</td>\n",
       "      <td>4085536615</td>\n",
       "      <td>680550077</td>\n",
       "      <td>3970769798</td>\n",
       "      <td>2013391065</td>\n",
       "      <td>...</td>\n",
       "      <td>1</td>\n",
       "      <td>2</td>\n",
       "      <td>15706</td>\n",
       "      <td>320</td>\n",
       "      <td>50</td>\n",
       "      <td>1722</td>\n",
       "      <td>0</td>\n",
       "      <td>35</td>\n",
       "      <td>-1</td>\n",
       "      <td>79</td>\n",
       "    </tr>\n",
       "    <tr>\n",
       "      <th>1</th>\n",
       "      <td>1.000017e+19</td>\n",
       "      <td>0</td>\n",
       "      <td>14102100</td>\n",
       "      <td>1005</td>\n",
       "      <td>0</td>\n",
       "      <td>532546046</td>\n",
       "      <td>4085536615</td>\n",
       "      <td>680550077</td>\n",
       "      <td>3970769798</td>\n",
       "      <td>2013391065</td>\n",
       "      <td>...</td>\n",
       "      <td>1</td>\n",
       "      <td>0</td>\n",
       "      <td>15704</td>\n",
       "      <td>320</td>\n",
       "      <td>50</td>\n",
       "      <td>1722</td>\n",
       "      <td>0</td>\n",
       "      <td>35</td>\n",
       "      <td>100084</td>\n",
       "      <td>79</td>\n",
       "    </tr>\n",
       "    <tr>\n",
       "      <th>2</th>\n",
       "      <td>1.000037e+19</td>\n",
       "      <td>0</td>\n",
       "      <td>14102100</td>\n",
       "      <td>1005</td>\n",
       "      <td>0</td>\n",
       "      <td>532546046</td>\n",
       "      <td>4085536615</td>\n",
       "      <td>680550077</td>\n",
       "      <td>3970769798</td>\n",
       "      <td>2013391065</td>\n",
       "      <td>...</td>\n",
       "      <td>1</td>\n",
       "      <td>0</td>\n",
       "      <td>15704</td>\n",
       "      <td>320</td>\n",
       "      <td>50</td>\n",
       "      <td>1722</td>\n",
       "      <td>0</td>\n",
       "      <td>35</td>\n",
       "      <td>100084</td>\n",
       "      <td>79</td>\n",
       "    </tr>\n",
       "    <tr>\n",
       "      <th>3</th>\n",
       "      <td>1.000064e+19</td>\n",
       "      <td>0</td>\n",
       "      <td>14102100</td>\n",
       "      <td>1005</td>\n",
       "      <td>0</td>\n",
       "      <td>532546046</td>\n",
       "      <td>4085536615</td>\n",
       "      <td>680550077</td>\n",
       "      <td>3970769798</td>\n",
       "      <td>2013391065</td>\n",
       "      <td>...</td>\n",
       "      <td>1</td>\n",
       "      <td>0</td>\n",
       "      <td>15706</td>\n",
       "      <td>320</td>\n",
       "      <td>50</td>\n",
       "      <td>1722</td>\n",
       "      <td>0</td>\n",
       "      <td>35</td>\n",
       "      <td>100084</td>\n",
       "      <td>79</td>\n",
       "    </tr>\n",
       "    <tr>\n",
       "      <th>4</th>\n",
       "      <td>1.000068e+19</td>\n",
       "      <td>0</td>\n",
       "      <td>14102100</td>\n",
       "      <td>1005</td>\n",
       "      <td>1</td>\n",
       "      <td>4270638152</td>\n",
       "      <td>2439430497</td>\n",
       "      <td>90831144</td>\n",
       "      <td>3970769798</td>\n",
       "      <td>2013391065</td>\n",
       "      <td>...</td>\n",
       "      <td>1</td>\n",
       "      <td>0</td>\n",
       "      <td>18993</td>\n",
       "      <td>320</td>\n",
       "      <td>50</td>\n",
       "      <td>2161</td>\n",
       "      <td>0</td>\n",
       "      <td>35</td>\n",
       "      <td>-1</td>\n",
       "      <td>157</td>\n",
       "    </tr>\n",
       "  </tbody>\n",
       "</table>\n",
       "<p>5 rows × 24 columns</p>\n",
       "</div>"
      ],
      "text/plain": [
       "             id  click      hour    C1  banner_pos     site_id  site_domain  \\\n",
       "0  1.000009e+18      0  14102100  1005           0   532546046   4085536615   \n",
       "1  1.000017e+19      0  14102100  1005           0   532546046   4085536615   \n",
       "2  1.000037e+19      0  14102100  1005           0   532546046   4085536615   \n",
       "3  1.000064e+19      0  14102100  1005           0   532546046   4085536615   \n",
       "4  1.000068e+19      0  14102100  1005           1  4270638152   2439430497   \n",
       "\n",
       "   site_category      app_id  app_domain ...   device_type  device_conn_type  \\\n",
       "0      680550077  3970769798  2013391065 ...             1                 2   \n",
       "1      680550077  3970769798  2013391065 ...             1                 0   \n",
       "2      680550077  3970769798  2013391065 ...             1                 0   \n",
       "3      680550077  3970769798  2013391065 ...             1                 0   \n",
       "4       90831144  3970769798  2013391065 ...             1                 0   \n",
       "\n",
       "     C14  C15  C16   C17  C18  C19     C20  C21  \n",
       "0  15706  320   50  1722    0   35      -1   79  \n",
       "1  15704  320   50  1722    0   35  100084   79  \n",
       "2  15704  320   50  1722    0   35  100084   79  \n",
       "3  15706  320   50  1722    0   35  100084   79  \n",
       "4  18993  320   50  2161    0   35      -1  157  \n",
       "\n",
       "[5 rows x 24 columns]"
      ]
     },
     "execution_count": 41,
     "metadata": {},
     "output_type": "execute_result"
    }
   ],
   "source": [
    "data.head()"
   ]
  },
  {
   "cell_type": "code",
   "execution_count": 42,
   "metadata": {},
   "outputs": [
    {
     "name": "stdout",
     "output_type": "stream",
     "text": [
      "unique values:\n",
      "\t id = 500000\n",
      "\t click = 2\n",
      "\t hour = 4\n",
      "\t C1 = 7\n",
      "\t banner_pos = 6\n",
      "\t site_id = 1704\n",
      "\t site_domain = 1586\n",
      "\t site_category = 21\n",
      "\t app_id = 1641\n",
      "\t app_domain = 122\n",
      "\t app_category = 20\n",
      "\t device_id = 41413\n",
      "\t device_ip = 171304\n",
      "\t device_model = 3967\n",
      "\t device_type = 4\n",
      "\t device_conn_type = 4\n",
      "\t C14 = 540\n",
      "\t C15 = 8\n",
      "\t C16 = 9\n",
      "\t C17 = 154\n",
      "\t C18 = 4\n",
      "\t C19 = 40\n",
      "\t C20 = 154\n",
      "\t C21 = 34\n"
     ]
    }
   ],
   "source": [
    "print(\"unique values:\")\n",
    "for colname in data.columns.values:\n",
    "    print('\\t',colname,'=',data[colname].unique().shape[0])"
   ]
  },
  {
   "cell_type": "code",
   "execution_count": 43,
   "metadata": {},
   "outputs": [
    {
     "name": "stdout",
     "output_type": "stream",
     "text": [
      "col values:\n",
      "\t id = 1.0000094181510943e+18  type= <class 'numpy.float64'>\n",
      "\t click = 0  type= <class 'numpy.int64'>\n",
      "\t hour = 14102100  type= <class 'numpy.int64'>\n",
      "\t C1 = 1005  type= <class 'numpy.int64'>\n",
      "\t banner_pos = 0  type= <class 'numpy.int64'>\n",
      "\t site_id = 532546046  type= <class 'numpy.int64'>\n",
      "\t site_domain = 4085536615  type= <class 'numpy.int64'>\n",
      "\t site_category = 680550077  type= <class 'numpy.int64'>\n",
      "\t app_id = 3970769798  type= <class 'numpy.int64'>\n",
      "\t app_domain = 2013391065  type= <class 'numpy.int64'>\n",
      "\t app_category = 131587874  type= <class 'numpy.int64'>\n",
      "\t device_id = 2845778250  type= <class 'numpy.int64'>\n",
      "\t device_ip = 3721564782  type= <class 'numpy.int64'>\n",
      "\t device_model = 1150642724  type= <class 'numpy.int64'>\n",
      "\t device_type = 1  type= <class 'numpy.int64'>\n",
      "\t device_conn_type = 2  type= <class 'numpy.int64'>\n",
      "\t C14 = 15706  type= <class 'numpy.int64'>\n",
      "\t C15 = 320  type= <class 'numpy.int64'>\n",
      "\t C16 = 50  type= <class 'numpy.int64'>\n",
      "\t C17 = 1722  type= <class 'numpy.int64'>\n",
      "\t C18 = 0  type= <class 'numpy.int64'>\n",
      "\t C19 = 35  type= <class 'numpy.int64'>\n",
      "\t C20 = -1  type= <class 'numpy.int64'>\n",
      "\t C21 = 79  type= <class 'numpy.int64'>\n"
     ]
    }
   ],
   "source": [
    "print(\"col values:\")\n",
    "for colname in data.columns.values:\n",
    "    print('\\t',colname,'=',data[colname][0], ' type=',type(data[colname][0]))"
   ]
  },
  {
   "cell_type": "code",
   "execution_count": 44,
   "metadata": {},
   "outputs": [
    {
     "name": "stdout",
     "output_type": "stream",
     "text": [
      "<class 'pandas.core.frame.DataFrame'>\n",
      "RangeIndex: 500000 entries, 0 to 499999\n",
      "Data columns (total 24 columns):\n",
      "id                  500000 non-null float64\n",
      "click               500000 non-null int64\n",
      "hour                500000 non-null int64\n",
      "C1                  500000 non-null int64\n",
      "banner_pos          500000 non-null int64\n",
      "site_id             500000 non-null int64\n",
      "site_domain         500000 non-null int64\n",
      "site_category       500000 non-null int64\n",
      "app_id              500000 non-null int64\n",
      "app_domain          500000 non-null int64\n",
      "app_category        500000 non-null int64\n",
      "device_id           500000 non-null int64\n",
      "device_ip           500000 non-null int64\n",
      "device_model        500000 non-null int64\n",
      "device_type         500000 non-null int64\n",
      "device_conn_type    500000 non-null int64\n",
      "C14                 500000 non-null int64\n",
      "C15                 500000 non-null int64\n",
      "C16                 500000 non-null int64\n",
      "C17                 500000 non-null int64\n",
      "C18                 500000 non-null int64\n",
      "C19                 500000 non-null int64\n",
      "C20                 500000 non-null int64\n",
      "C21                 500000 non-null int64\n",
      "dtypes: float64(1), int64(23)\n",
      "memory usage: 91.6 MB\n"
     ]
    }
   ],
   "source": [
    "data.info()"
   ]
  },
  {
   "cell_type": "code",
   "execution_count": 45,
   "metadata": {},
   "outputs": [],
   "source": [
    "y=pd.DataFrame(data['click']).copy()"
   ]
  },
  {
   "cell_type": "code",
   "execution_count": 46,
   "metadata": {},
   "outputs": [],
   "source": [
    "X=data"
   ]
  },
  {
   "cell_type": "code",
   "execution_count": 47,
   "metadata": {},
   "outputs": [],
   "source": [
    "X['click']=1"
   ]
  },
  {
   "cell_type": "code",
   "execution_count": 48,
   "metadata": {},
   "outputs": [],
   "source": [
    "#X.rename(index=str, columns={'click': 'intercept'},inplace=True)"
   ]
  },
  {
   "cell_type": "code",
   "execution_count": 49,
   "metadata": {},
   "outputs": [],
   "source": [
    "colNames=list(X.columns)\n",
    "m,n = X.shape\n",
    "X = np.array(X)\n",
    "y = np.array(y)\n",
    "theta = np.array(np.zeros(n).reshape(n,1))"
   ]
  },
  {
   "cell_type": "code",
   "execution_count": 50,
   "metadata": {},
   "outputs": [],
   "source": [
    "from sklearn import linear_model\n",
    "\n",
    "def regLogitRegress(X,y):\n",
    "    model = linear_model.LogisticRegression(penalty='l1', C=1.0)\n",
    "    model.fit(X, y.ravel())\n",
    "    Accuracy=model.score(X, y)\n",
    "    print('The accuracy of the model:',Accuracy)\n",
    "    coeff_df = pd.DataFrame(list(zip(X.columns, np.transpose(model.coef_))))\n",
    "    Y_mean=y.mean()\n",
    "    print('Target average:',Y_mean)\n",
    "    return coeff_df"
   ]
  },
  {
   "cell_type": "code",
   "execution_count": null,
   "metadata": {},
   "outputs": [],
   "source": [
    "regLogitRegress(X,y)"
   ]
  },
  {
   "cell_type": "code",
   "execution_count": null,
   "metadata": {},
   "outputs": [],
   "source": []
  }
 ],
 "metadata": {
  "kernelspec": {
   "display_name": "Python 3",
   "language": "python",
   "name": "python3"
  },
  "language_info": {
   "codemirror_mode": {
    "name": "ipython",
    "version": 3
   },
   "file_extension": ".py",
   "mimetype": "text/x-python",
   "name": "python",
   "nbconvert_exporter": "python",
   "pygments_lexer": "ipython3",
   "version": "3.5.5"
  }
 },
 "nbformat": 4,
 "nbformat_minor": 2
}
